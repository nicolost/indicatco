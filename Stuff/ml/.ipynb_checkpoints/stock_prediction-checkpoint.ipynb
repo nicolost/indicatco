{
 "cells": [
  {
   "cell_type": "markdown",
   "metadata": {},
   "source": [
    "# Reddit stock market prediction"
   ]
  },
  {
   "cell_type": "markdown",
   "metadata": {},
   "source": [
    "### Import libraries"
   ]
  },
  {
   "cell_type": "code",
   "execution_count": 2,
   "metadata": {
    "collapsed": true
   },
   "outputs": [],
   "source": [
    "# pull libraries\n",
    "import numpy as np\n",
    "import pandas as pd\n",
    "import re\n",
    "from nltk.corpus import stopwords \n",
    "from nltk.tokenize import word_tokenize\n",
    "from sklearn.model_selection import train_test_split"
   ]
  },
  {
   "cell_type": "markdown",
   "metadata": {},
   "source": [
    "### Preprocess data"
   ]
  },
  {
   "cell_type": "code",
   "execution_count": 3,
   "metadata": {
    "collapsed": true
   },
   "outputs": [],
   "source": [
    "# pull data\n",
    "djia_data = pd.read_csv('./stocknews/Combined_News_DJIA.csv', parse_dates=True)\n",
    "\n",
    "djia_data['combined'] = djia_data[djia_data.columns[2:]].apply(\n",
    "    lambda x: ' '.join(x.astype(str)),\n",
    "    axis=1\n",
    ")\n",
    "\n",
    "def sanitise_row(row):\n",
    "    return re.sub('[^A-Za-z ]+', '', row.replace(\"b\\\"\", \"\").replace(\"b'\", \"\"))\n",
    "\n",
    "def remove_stop_words(sentence):\n",
    "    sentence = sanitise_row(sentence)\n",
    "    stop_words = set(stopwords.words('english')) \n",
    "    word_tokens = word_tokenize(sentence) \n",
    "    filtered_sentence = [w for w in word_tokens if not w in stop_words]\n",
    "    return ' '.join(filtered_sentence)\n",
    "\n",
    "djia_data['combined'] = djia_data['combined'].map(lambda x: remove_stop_words(x))\n",
    "\n",
    "# print(type(djia_data['combined']))"
   ]
  },
  {
   "cell_type": "code",
   "execution_count": 4,
   "metadata": {},
   "outputs": [
    {
     "name": "stdout",
     "output_type": "stream",
     "text": [
      "0.5354449472096531\n"
     ]
    }
   ],
   "source": [
    "# Ratio of label 1s and 0s\n",
    "data_label = np.array(djia_data['Label'])\n",
    "\n",
    "print(np.sum(data_label == 1) / data_label.shape[0])"
   ]
  },
  {
   "cell_type": "markdown",
   "metadata": {},
   "source": [
    "### Preprocess data"
   ]
  },
  {
   "cell_type": "code",
   "execution_count": 5,
   "metadata": {
    "collapsed": true
   },
   "outputs": [],
   "source": [
    "# prepare train and test data\n",
    "all_data = djia_data['combined']\n",
    "data_label = np.array(djia_data['Label'])\n",
    "\n",
    "# vectorizer = CountVectorizer()\n",
    "# X = vectorizer.fit_transform(all_data)\n",
    "# print(vectorizer.get_feature_names())\n",
    "# print(X.shape)\n",
    "\n",
    "X_train, X_test, y_train, y_test = train_test_split(\n",
    "    all_data, data_label, test_size=0.50, random_state=23)\n",
    "# we also need dictionary that maps word to number of occurences -> \n",
    "# to handle cases where word is not found in the training corpus"
   ]
  },
  {
   "cell_type": "code",
   "execution_count": 6,
   "metadata": {
    "collapsed": true
   },
   "outputs": [],
   "source": [
    "# We need to convert training data into a vector for LSTM\n",
    "# how does the vector look like?\n",
    "# need to build word_index first!\n",
    "\n",
    "def gen_word_indexes(data): \n",
    "    word_index = {}\n",
    "    word_index[\"<PAD>\"] = 0\n",
    "    word_index[\"<START>\"] = 1\n",
    "    word_index[\"<UNK>\"] = 2  # unknown\n",
    "    word_index[\"<UNUSED>\"] = 3\n",
    "\n",
    "    index = 4\n",
    "    # loop through everything in all_data\n",
    "    for row in data:\n",
    "        for word in row.split():\n",
    "            word = word.lower()\n",
    "            if word not in word_index:\n",
    "                word_index[word] = index\n",
    "                index += 1\n",
    "\n",
    "    reverse_word_index = dict([(value, key) for (key, value) in word_index.items()])\n",
    "    return (word_index, reverse_word_index)\n",
    "\n",
    "\n",
    "def vectorise_text_data(data, word_index):\n",
    "    vectorised_data = []\n",
    "    for row in data:\n",
    "        current_row = []\n",
    "        for word in row.split():\n",
    "            word = word.lower()\n",
    "            current_row.append(word_index[word])\n",
    "        vectorised_data.append(current_row)\n",
    "    return vectorised_data\n",
    "\n",
    "# really slow :(\n",
    "def aggregate_previous_days(num_days, data):\n",
    "    for i in range(num_days, len(data) - num_days):\n",
    "        for d in range(i, i + num_days):\n",
    "            data[i] += ' ' + data[d]\n",
    "    return data    "
   ]
  },
  {
   "cell_type": "code",
   "execution_count": 7,
   "metadata": {
    "scrolled": false
   },
   "outputs": [],
   "source": [
    "(word_index, reverse_word_index) = gen_word_indexes(all_data)\n",
    "X_vectorised = vectorise_text_data(all_data, word_index)"
   ]
  },
  {
   "cell_type": "code",
   "execution_count": 19,
   "metadata": {},
   "outputs": [
    {
     "name": "stdout",
     "output_type": "stream",
     "text": [
      "(994, 120) (995, 120)\n",
      "[8668 3140 3373 8669 8670 8671 3078 1681  523 1514 5553  604 8291  148\n",
      "  239 1832 5830  430 8672  546  529 4494 8673 1541 7531 2806  719  292\n",
      " 2886  794 2373 8674 1021 2312 1096 8404 8675 8676 3117 1006 4750  141\n",
      "  509 2642 4303   42   83 8677 3044 8678 3105 8647 8648 2874 8679 7503\n",
      " 6318  134 1375  825  627 1870 1827 2128  712  421 8678 4525 8680 8681\n",
      "  285  841  428  570  841 1129 7842   11  469   12 8682  156 8683 8684\n",
      " 2149 8685 8686 7895  612 8164 8687 8688 1002  162 1707 1167 6343 1324\n",
      "  818 1006 3804 5467 2609  719 8689 8690 2373  176 8691 8692 4396 1250\n",
      "   37 8693   89 1666 7823 6285 8694 8695]\n"
     ]
    }
   ],
   "source": [
    "from keras.preprocessing import sequence\n",
    "\n",
    "# number of most-frequent words to use\n",
    "nb_words = 40000\n",
    "# cut texts after this number of words\n",
    "maxlen = 120\n",
    "\n",
    "X_v_train, X_v_test, y_v_train, y_v_test = train_test_split(\n",
    "    X_vectorised, data_label, test_size=0.50, random_state=23)\n",
    "\n",
    "X_v_pad_train = sequence.pad_sequences(X_v_train,\n",
    "                                       value=word_index[\"<PAD>\"],\n",
    "                                       padding='post',\n",
    "                                       maxlen=maxlen)\n",
    "X_v_pad_test = sequence.pad_sequences(X_v_test, \n",
    "                                      value=word_index[\"<PAD>\"],\n",
    "                                      padding='post',\n",
    "                                      maxlen=maxlen)\n",
    "\n",
    "print(X_v_pad_train.shape, X_v_pad_test.shape)\n",
    "print(X_v_pad_train[2])"
   ]
  },
  {
   "cell_type": "markdown",
   "metadata": {},
   "source": [
    "Now what? We train!\n",
    "\n",
    "### Training using Naive Bayes"
   ]
  },
  {
   "cell_type": "code",
   "execution_count": 18,
   "metadata": {},
   "outputs": [
    {
     "name": "stderr",
     "output_type": "stream",
     "text": [
      "/Users/muhammad/anaconda3/lib/python3.6/site-packages/sklearn/feature_extraction/text.py:1089: FutureWarning: Conversion of the second argument of issubdtype from `float` to `np.floating` is deprecated. In future, it will be treated as `np.float64 == np.dtype(float).type`.\n",
      "  if hasattr(X, 'dtype') and np.issubdtype(X.dtype, np.float):\n"
     ]
    },
    {
     "data": {
      "text/plain": [
       "0.5386934673366834"
      ]
     },
     "execution_count": 18,
     "metadata": {},
     "output_type": "execute_result"
    }
   ],
   "source": [
    "from sklearn.pipeline import Pipeline\n",
    "from sklearn.feature_extraction.text import CountVectorizer, TfidfTransformer\n",
    "from sklearn.naive_bayes import MultinomialNB\n",
    "from sklearn.linear_model import LogisticRegression\n",
    "\n",
    "# LogisticRegression(random_state=0, solver='lbfgs')\n",
    "\n",
    "v = CountVectorizer()\n",
    "\n",
    "text_clf = Pipeline([\n",
    "    ('vect', v),\n",
    "    ('tfidf', TfidfTransformer()),\n",
    "    ('clf', MultinomialNB())\n",
    "])\n",
    "\n",
    "text_clf.fit(X_train, y_train)\n",
    "\n",
    "predicted = text_clf.predict(X_test)\n",
    "np.mean(predicted == y_test)  "
   ]
  },
  {
   "cell_type": "markdown",
   "metadata": {},
   "source": [
    "### Training using LSTM"
   ]
  },
  {
   "cell_type": "code",
   "execution_count": 29,
   "metadata": {
    "collapsed": true
   },
   "outputs": [],
   "source": [
    "from keras.models import Sequential\n",
    "from keras.layers import Dense, Embedding, Dropout, SpatialDropout1D\n",
    "from keras.layers import LSTM\n",
    "\n",
    "EMBEDDING_DIM = 128 # dimension for dense embeddings for each token\n",
    "LSTM_DIM = 64 # total LSTM units\n",
    "\n",
    "model = Sequential()\n",
    "model.add(Embedding(input_dim=nb_words, output_dim=EMBEDDING_DIM, input_length=maxlen))\n",
    "model.add(SpatialDropout1D(0.4))\n",
    "model.add(LSTM(LSTM_DIM, dropout=0.8, recurrent_dropout=0.8))\n",
    "model.add(Dense(1, activation=\"sigmoid\"))\n",
    "\n",
    "model.compile(loss=\"binary_crossentropy\", optimizer=\"adam\",\n",
    "              metrics=[\"accuracy\"])"
   ]
  },
  {
   "cell_type": "code",
   "execution_count": 30,
   "metadata": {},
   "outputs": [
    {
     "name": "stdout",
     "output_type": "stream",
     "text": [
      "Train on 944 samples, validate on 50 samples\n",
      "Epoch 1/7\n",
      "944/944 [==============================] - 6s 6ms/step - loss: 0.6923 - acc: 0.5138 - val_loss: 0.6935 - val_acc: 0.4000\n",
      "Epoch 2/7\n",
      "944/944 [==============================] - 4s 4ms/step - loss: 0.6923 - acc: 0.5339 - val_loss: 0.6940 - val_acc: 0.4400\n",
      "Epoch 3/7\n",
      "944/944 [==============================] - 4s 4ms/step - loss: 0.6892 - acc: 0.5508 - val_loss: 0.6942 - val_acc: 0.4600\n",
      "Epoch 4/7\n",
      "944/944 [==============================] - 4s 4ms/step - loss: 0.6874 - acc: 0.5614 - val_loss: 0.6942 - val_acc: 0.4600\n",
      "Epoch 5/7\n",
      "944/944 [==============================] - 4s 4ms/step - loss: 0.6802 - acc: 0.6197 - val_loss: 0.6943 - val_acc: 0.4400\n",
      "Epoch 6/7\n",
      "944/944 [==============================] - 4s 4ms/step - loss: 0.6785 - acc: 0.6356 - val_loss: 0.6944 - val_acc: 0.4600\n",
      "Epoch 7/7\n",
      "944/944 [==============================] - 4s 4ms/step - loss: 0.6711 - acc: 0.6674 - val_loss: 0.6948 - val_acc: 0.4600\n"
     ]
    },
    {
     "data": {
      "text/plain": [
       "<keras.callbacks.History at 0x1410eb160>"
      ]
     },
     "execution_count": 30,
     "metadata": {},
     "output_type": "execute_result"
    }
   ],
   "source": [
    "batch_size = 64\n",
    "model.fit(X_v_pad_train, y_v_train, epochs=7, batch_size=batch_size, \n",
    "          shuffle=True, validation_split=0.3, verbose=1)"
   ]
  },
  {
   "cell_type": "code",
   "execution_count": 31,
   "metadata": {},
   "outputs": [
    {
     "name": "stdout",
     "output_type": "stream",
     "text": [
      "acc: 54.27%\n"
     ]
    }
   ],
   "source": [
    "scores = model.evaluate(X_v_pad_test, y_v_test, verbose=2)\n",
    "print(\"%s: %.2f%%\" % (model.metrics_names[1], scores[1]*100))"
   ]
  },
  {
   "cell_type": "code",
   "execution_count": null,
   "metadata": {
    "collapsed": true
   },
   "outputs": [],
   "source": []
  }
 ],
 "metadata": {
  "kernelspec": {
   "display_name": "Python 3",
   "language": "python",
   "name": "python3"
  },
  "language_info": {
   "codemirror_mode": {
    "name": "ipython",
    "version": 3
   },
   "file_extension": ".py",
   "mimetype": "text/x-python",
   "name": "python",
   "nbconvert_exporter": "python",
   "pygments_lexer": "ipython3",
   "version": "3.6.8"
  }
 },
 "nbformat": 4,
 "nbformat_minor": 2
}
